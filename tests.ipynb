{
 "cells": [
  {
   "cell_type": "code",
   "execution_count": 38,
   "metadata": {
    "tags": []
   },
   "outputs": [
    {
     "output_type": "stream",
     "name": "stdout",
     "text": "Requirement already satisfied: fuzzywuzzy in /Library/Frameworks/Python.framework/Versions/3.8/lib/python3.8/site-packages (0.18.0)\nRequirement already satisfied: dataiku-api-client in /Library/Frameworks/Python.framework/Versions/3.8/lib/python3.8/site-packages (5.1.1)\nRequirement already satisfied: requests<2.22,>=2 in /Library/Frameworks/Python.framework/Versions/3.8/lib/python3.8/site-packages (from dataiku-api-client) (2.21.0)\nRequirement already satisfied: python-dateutil in /Library/Frameworks/Python.framework/Versions/3.8/lib/python3.8/site-packages (from dataiku-api-client) (2.8.1)\nRequirement already satisfied: idna<2.9,>=2.5 in /Library/Frameworks/Python.framework/Versions/3.8/lib/python3.8/site-packages (from requests<2.22,>=2->dataiku-api-client) (2.8)\nRequirement already satisfied: certifi>=2017.4.17 in /Library/Frameworks/Python.framework/Versions/3.8/lib/python3.8/site-packages (from requests<2.22,>=2->dataiku-api-client) (2020.4.5.1)\nRequirement already satisfied: urllib3<1.25,>=1.21.1 in /Library/Frameworks/Python.framework/Versions/3.8/lib/python3.8/site-packages (from requests<2.22,>=2->dataiku-api-client) (1.24.3)\nRequirement already satisfied: chardet<3.1.0,>=3.0.2 in /Library/Frameworks/Python.framework/Versions/3.8/lib/python3.8/site-packages (from requests<2.22,>=2->dataiku-api-client) (3.0.4)\nRequirement already satisfied: six>=1.5 in /Library/Frameworks/Python.framework/Versions/3.8/lib/python3.8/site-packages (from python-dateutil->dataiku-api-client) (1.14.0)\n"
    }
   ],
   "source": [
    "!pip install fuzzywuzzy\n",
    "import numpy as np\n",
    "import pandas as pd\n",
    "from fuzzywuzzy import process\n",
    "!pip install dataiku-api-client\n",
    "import dataikuapi"
   ]
  },
  {
   "cell_type": "code",
   "execution_count": 39,
   "metadata": {},
   "outputs": [
    {
     "output_type": "execute_result",
     "data": {
      "text/plain": "product_name           object\nfat_100g              float64\ncarbohydrates_100g    float64\nproteins_100g         float64\ncarb_classifier       float64\ninsulin_intake        float64\ndtype: object"
     },
     "metadata": {},
     "execution_count": 39
    }
   ],
   "source": [
    "data = pd.read_csv('/Users/ritavieiragoncalves/mypython/diabetes_app/static/sample.csv') \n",
    "df1 = pd.DataFrame(data=data)\n",
    "df1.dtypes"
   ]
  },
  {
   "cell_type": "code",
   "execution_count": 40,
   "metadata": {},
   "outputs": [],
   "source": [
    "def find_item(uinput, uquant):\n",
    "    idx = process.extractOne(uinput, df1['product_name'])[2]\n",
    "\n",
    "    item = df1['product_name'][idx]\n",
    "    totalCarbs = int((df1['carbohydrates_100g'][idx]/100) * uquant)\n",
    "    totalFat = int((df1['fat_100g'][idx]/100) * uquant)\n",
    "    totalProtein = int((df1['proteins_100g'][idx]/100) * uquant)\n",
    "    insulinReco = int((df1['insulin_intake'][idx]/100) * uquant)\n",
    "\n",
    "    return item, totalCarbs, totalFat, totalProtein, insulinReco"
   ]
  },
  {
   "cell_type": "code",
   "execution_count": 41,
   "metadata": {},
   "outputs": [
    {
     "output_type": "execute_result",
     "data": {
      "text/plain": "('Lasanha Bolonhesa fresca', 39, 27, 27, 2)"
     },
     "metadata": {},
     "execution_count": 41
    }
   ],
   "source": [
    "find_item('Lasanhe', 300)"
   ]
  },
  {
   "cell_type": "code",
   "execution_count": 5,
   "metadata": {},
   "outputs": [],
   "source": [
    "# df2[df2['product_name'].str.contains(x,case=False)][['product_name','fat_100g']].values.tolist()"
   ]
  },
  {
   "cell_type": "code",
   "execution_count": 42,
   "metadata": {
    "tags": []
   },
   "outputs": [
    {
     "output_type": "stream",
     "name": "stdout",
     "text": "{'columns': [{'name': 'product_name', 'type': 'string', 'meaning': 'Text'}, {'name': 'fat_100g', 'type': 'double'}, {'name': 'carbohydrates_100g', 'type': 'double'}, {'name': 'proteins_100g', 'type': 'double'}, {'name': 'carb_classifier', 'type': 'bigint'}, {'name': 'insulin_intake', 'type': 'float'}], 'userModified': True}\n"
    }
   ],
   "source": [
    "host = \"https://wcsc1.dss-demo.dataiku.com/\"\n",
    "apiKey = \"XCF82CIESH57BCLER0LG74YVIU8GLGSI\"\n",
    "client = dataikuapi.DSSClient(host, apiKey)\n",
    "\n",
    "# client is now a DSSClient and can perform all authorized actions.\n",
    "# For example, list the project keys for which the API key has access\n",
    "# secret: XCF82CIESH57BCLER0LG74YVIU8GLGSI\n",
    "client.list_project_keys()\n",
    "\"\"\"\n",
    "CURRENT_INSTANCE = 1\n",
    "HOST = dict_hosts[CURRENT_INSTANCE]\n",
    "API_KEY = dict_api_keys[CUERRENT_INSTANCE]\n",
    "PROJECT_KEY = \"DATAFORCE\" # The name of your project, in UPPERCASE you can see in your URL\n",
    "DATASET_NAME = \"python1_groomed\" # Your DSS dataset name\n",
    "DATASET_ROWS_LIMIT = 1000 # Max rows you want to read\"\"\"\n",
    "\n",
    "project = client.get_project(\"DATAFORCE\")\n",
    "dataset = project.get_dataset(\"python1_groomed\") \n",
    "\n",
    "print(dataset.get_schema())"
   ]
  },
  {
   "cell_type": "code",
   "execution_count": 52,
   "metadata": {
    "tags": []
   },
   "outputs": [
    {
     "output_type": "execute_result",
     "data": {
      "text/plain": "dict_values([[{'name': 'product_name', 'type': 'string', 'meaning': 'Text'}, {'name': 'fat_100g', 'type': 'double'}, {'name': 'carbohydrates_100g', 'type': 'double'}, {'name': 'proteins_100g', 'type': 'double'}, {'name': 'carb_classifier', 'type': 'bigint'}, {'name': 'insulin_intake', 'type': 'float'}], True])"
     },
     "metadata": {},
     "execution_count": 52
    }
   ],
   "source": [
    "dataset.get_schema()"
   ]
  },
  {
   "cell_type": "code",
   "execution_count": 33,
   "metadata": {
    "tags": []
   },
   "outputs": [
    {
     "output_type": "stream",
     "name": "stdout",
     "text": "['product_name', 'fat_100g', 'carbohydrates_100g', 'proteins_100g', 'carb_classifier', 'insulin_intake']\n"
    }
   ],
   "source": [
    "columns = [column['name'] for column in dataset.get_schema()['columns']]\n",
    "print(columns)"
   ]
  },
  {
   "cell_type": "code",
   "execution_count": 68,
   "metadata": {
    "tags": []
   },
   "outputs": [
    {
     "output_type": "execute_result",
     "data": {
      "text/plain": "                                           product_name  fat_100g  \\\n0                        Banana Chips Sweetened (Whole)     28.57   \n1                                               Peanuts     17.86   \n2                                Organic Salted Nut Mix     57.14   \n3                                       Organic Polenta      1.43   \n4                     Breadshop Honey Gone Nuts Granola     18.27   \n...                                                 ...       ...   \n9995      FrappuccinoPumpkin Spice Chilled Coffee Drink      1.07   \n9996                              Unsweetened Green Tea      0.00   \n9997  RefreshersSparkling Green Coffee Energy Bevera...      0.00   \n9998               Unsweetened Real Brewed TeaGreen Tea      0.00   \n9999                                     1 Orange Juice      0.00   \n\n      carbohydrates_100g  proteins_100g  carb_classifier  insulin_intake  \n0                  64.29           3.57                2             4.3  \n1                  60.71          17.86                2             4.0  \n2                  17.86          17.86                0             1.2  \n3                  77.14           8.57                2             5.1  \n4                  63.46          13.46                2             4.2  \n...                  ...            ...              ...             ...  \n9995               13.17           2.49                0             0.9  \n9996                0.00           0.00                0             0.0  \n9997                6.20           0.00                0             0.4  \n9998                0.00           0.00                0             0.0  \n9999               10.76           0.80                0             0.7  \n\n[10000 rows x 6 columns]",
      "text/html": "<div>\n<style scoped>\n    .dataframe tbody tr th:only-of-type {\n        vertical-align: middle;\n    }\n\n    .dataframe tbody tr th {\n        vertical-align: top;\n    }\n\n    .dataframe thead th {\n        text-align: right;\n    }\n</style>\n<table border=\"1\" class=\"dataframe\">\n  <thead>\n    <tr style=\"text-align: right;\">\n      <th></th>\n      <th>product_name</th>\n      <th>fat_100g</th>\n      <th>carbohydrates_100g</th>\n      <th>proteins_100g</th>\n      <th>carb_classifier</th>\n      <th>insulin_intake</th>\n    </tr>\n  </thead>\n  <tbody>\n    <tr>\n      <th>0</th>\n      <td>Banana Chips Sweetened (Whole)</td>\n      <td>28.57</td>\n      <td>64.29</td>\n      <td>3.57</td>\n      <td>2</td>\n      <td>4.3</td>\n    </tr>\n    <tr>\n      <th>1</th>\n      <td>Peanuts</td>\n      <td>17.86</td>\n      <td>60.71</td>\n      <td>17.86</td>\n      <td>2</td>\n      <td>4.0</td>\n    </tr>\n    <tr>\n      <th>2</th>\n      <td>Organic Salted Nut Mix</td>\n      <td>57.14</td>\n      <td>17.86</td>\n      <td>17.86</td>\n      <td>0</td>\n      <td>1.2</td>\n    </tr>\n    <tr>\n      <th>3</th>\n      <td>Organic Polenta</td>\n      <td>1.43</td>\n      <td>77.14</td>\n      <td>8.57</td>\n      <td>2</td>\n      <td>5.1</td>\n    </tr>\n    <tr>\n      <th>4</th>\n      <td>Breadshop Honey Gone Nuts Granola</td>\n      <td>18.27</td>\n      <td>63.46</td>\n      <td>13.46</td>\n      <td>2</td>\n      <td>4.2</td>\n    </tr>\n    <tr>\n      <th>...</th>\n      <td>...</td>\n      <td>...</td>\n      <td>...</td>\n      <td>...</td>\n      <td>...</td>\n      <td>...</td>\n    </tr>\n    <tr>\n      <th>9995</th>\n      <td>FrappuccinoPumpkin Spice Chilled Coffee Drink</td>\n      <td>1.07</td>\n      <td>13.17</td>\n      <td>2.49</td>\n      <td>0</td>\n      <td>0.9</td>\n    </tr>\n    <tr>\n      <th>9996</th>\n      <td>Unsweetened Green Tea</td>\n      <td>0.00</td>\n      <td>0.00</td>\n      <td>0.00</td>\n      <td>0</td>\n      <td>0.0</td>\n    </tr>\n    <tr>\n      <th>9997</th>\n      <td>RefreshersSparkling Green Coffee Energy Bevera...</td>\n      <td>0.00</td>\n      <td>6.20</td>\n      <td>0.00</td>\n      <td>0</td>\n      <td>0.4</td>\n    </tr>\n    <tr>\n      <th>9998</th>\n      <td>Unsweetened Real Brewed TeaGreen Tea</td>\n      <td>0.00</td>\n      <td>0.00</td>\n      <td>0.00</td>\n      <td>0</td>\n      <td>0.0</td>\n    </tr>\n    <tr>\n      <th>9999</th>\n      <td>1 Orange Juice</td>\n      <td>0.00</td>\n      <td>10.76</td>\n      <td>0.80</td>\n      <td>0</td>\n      <td>0.7</td>\n    </tr>\n  </tbody>\n</table>\n<p>10000 rows × 6 columns</p>\n</div>"
     },
     "metadata": {},
     "execution_count": 68
    }
   ],
   "source": [
    "row_count = 0\n",
    "data = [ ]\n",
    "\n",
    "for row in dataset.iter_rows():\n",
    "    data.append(row)\n",
    "    row_count = row_count + 1\n",
    "    if row_count >= 10000:\n",
    "        break\n",
    "\n",
    "df_api = pd.DataFrame(data=data, columns=columns)\n",
    "df_api"
   ]
  },
  {
   "cell_type": "code",
   "execution_count": null,
   "metadata": {},
   "outputs": [],
   "source": [
    "def find_item(uinput, uquant):\n",
    "\n",
    "    idx = process.extractOne(uinput, df1['product_name'])[2]\n",
    "\n",
    "    item = df1['product_name'][idx]\n",
    "    totalCarbs = int((df1['carbohydrates_100g'][idx]/100) * uquant)\n",
    "    totalFat = int((df1['fat_100g'][idx]/100) * uquant)\n",
    "    totalProtein = int((df1['proteins_100g'][idx]/100) * uquant)\n",
    "    insulinReco = int((df1['insulin_intake'][idx]/100) * uquant)\n",
    "\n",
    "    return item, totalCarbs, totalFat, totalProtein, insulinReco\n",
    "\n",
    "find_item(\"Banana\", 200)"
   ]
  }
 ],
 "metadata": {
  "language_info": {
   "codemirror_mode": {
    "name": "ipython",
    "version": 3
   },
   "file_extension": ".py",
   "mimetype": "text/x-python",
   "name": "python",
   "nbconvert_exporter": "python",
   "pygments_lexer": "ipython3",
   "version": "3.8.2-final"
  },
  "orig_nbformat": 2,
  "kernelspec": {
   "name": "python38264bit1b9f4ef4f3d545da8b233db44fb52bbe",
   "display_name": "Python 3.8.2 64-bit"
  }
 },
 "nbformat": 4,
 "nbformat_minor": 2
}