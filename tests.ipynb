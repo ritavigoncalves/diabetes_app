{
 "cells": [
  {
   "cell_type": "code",
   "execution_count": 8,
   "metadata": {
    "tags": []
   },
   "outputs": [
    {
     "output_type": "stream",
     "name": "stdout",
     "text": "Requirement already satisfied: fuzzywuzzy in /Library/Frameworks/Python.framework/Versions/3.8/lib/python3.8/site-packages (0.18.0)\n"
    }
   ],
   "source": [
    "!pip install fuzzywuzzy\n",
    "import numpy as np\n",
    "import pandas as pd\n",
    "from fuzzywuzzy import process\n"
   ]
  },
  {
   "cell_type": "code",
   "execution_count": 27,
   "metadata": {},
   "outputs": [
    {
     "output_type": "execute_result",
     "data": {
      "text/plain": "Index(['product_name', 'fat_100g', 'carbohydrates_100g', 'proteins_100g',\n       'carb_classifier', 'insulin_intake'],\n      dtype='object')"
     },
     "metadata": {},
     "execution_count": 27
    }
   ],
   "source": [
    "data = pd.read_csv('/Users/ritavieiragoncalves/mypython/diabetes_app/static/sample.csv') \n",
    "df1 = pd.DataFrame(data=data)\n",
    "df1.columns"
   ]
  },
  {
   "cell_type": "code",
   "execution_count": 28,
   "metadata": {},
   "outputs": [],
   "source": [
    "def find_item(uinput, uquant):\n",
    "    idx = process.extractOne(uinput, df1['product_name'])[2]\n",
    "\n",
    "    item = df1['product_name'][idx]\n",
    "    totalCarbs = int((df1['carbohydrates_100g'][idx]/100) * uquant)\n",
    "    totalFat = int((df1['fat_100g'][idx]/100) * uquant)\n",
    "    totalProtein = int((df1['proteins_100g'][idx]/100) * uquant)\n",
    "    insulinReco = int((df1['insulin_intake'][idx]/100) * uquant)\n",
    "\n",
    "    return item, totalCarbs, totalFat, totalProtein, insulinReco"
   ]
  },
  {
   "cell_type": "code",
   "execution_count": 44,
   "metadata": {},
   "outputs": [
    {
     "output_type": "execute_result",
     "data": {
      "text/plain": "('Lasanha Bolonhesa fresca', 39, 27, 27, 2)"
     },
     "metadata": {},
     "execution_count": 44
    }
   ],
   "source": [
    "find_item('Lasanhe', 300)"
   ]
  },
  {
   "cell_type": "code",
   "execution_count": null,
   "metadata": {},
   "outputs": [],
   "source": [
    "# df2[df2['product_name'].str.contains(x,case=False)][['product_name','fat_100g']].values.tolist()"
   ]
  }
 ],
 "metadata": {
  "language_info": {
   "codemirror_mode": {
    "name": "ipython",
    "version": 3
   },
   "file_extension": ".py",
   "mimetype": "text/x-python",
   "name": "python",
   "nbconvert_exporter": "python",
   "pygments_lexer": "ipython3",
   "version": "3.8.2-final"
  },
  "orig_nbformat": 2,
  "kernelspec": {
   "name": "python38264bit1b9f4ef4f3d545da8b233db44fb52bbe",
   "display_name": "Python 3.8.2 64-bit"
  }
 },
 "nbformat": 4,
 "nbformat_minor": 2
}